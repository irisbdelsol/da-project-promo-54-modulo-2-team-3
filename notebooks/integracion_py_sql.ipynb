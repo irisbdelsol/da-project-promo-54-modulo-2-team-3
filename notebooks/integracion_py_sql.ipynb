{
 "cells": [
  {
   "cell_type": "code",
   "execution_count": 1,
   "id": "3b5b23aa",
   "metadata": {},
   "outputs": [],
   "source": [
    "import mysql.connector\n",
    "from mysql.connector import errorcode\n",
    "\n",
    "import pandas"
   ]
  },
  {
   "cell_type": "code",
   "execution_count": 2,
   "id": "13c71658",
   "metadata": {},
   "outputs": [
    {
     "name": "stdout",
     "output_type": "stream",
     "text": [
      "¡Conexión exitosa a MySQL!\n",
      "Conexión cerrada.\n"
     ]
    }
   ],
   "source": [
    "try:\n",
    "    # Intenta hacer la conexión con la base de datos 'tienda'\n",
    "    cnx = mysql.connector.connect(\n",
    "        user='root',\n",
    "        password='AlumnaAdalab',\n",
    "        host='127.0.0.1'\n",
    "    )\n",
    "    print(\"¡Conexión exitosa a MySQL!\") #\n",
    "\n",
    "except mysql.connector.Error as err:\n",
    "    # Si es un error de acceso denegado (ej. contraseña o usuario incorrecto)\n",
    "    if err.errno == errorcode.ER_ACCESS_DENIED_ERROR:\n",
    "        print(\"Algo está mal con tu nombre de usuario o contraseña.\") #\n",
    "    # Si la base de datos no existe\n",
    "    elif err.errno == errorcode.ER_BAD_DB_ERROR:\n",
    "        print(\"La base de datos no existe.\") #\n",
    "    # Para cualquier otro tipo de error\n",
    "    else:\n",
    "        print(err) #\n",
    "        print(\"Código de Error:\", err.errno) #\n",
    "        print(\"SQLSTATE\", err.sqlstate) #\n",
    "        print(\"Mensaje\", err.msg) #\n",
    "else:\n",
    "    # Si la conexión fue exitosa, cierra la conexión\n",
    "    cnx.close()\n",
    "    print(\"Conexión cerrada.\")"
   ]
  },
  {
   "cell_type": "code",
   "execution_count": 3,
   "id": "bf8aa10a",
   "metadata": {},
   "outputs": [
    {
     "name": "stdout",
     "output_type": "stream",
     "text": [
      "Base de datos 'musicstream' creada exitosamente.\n"
     ]
    }
   ],
   "source": [
    "cnx = mysql.connector.connect(\n",
    "    user='root',\n",
    "    password='AlumnaAdalab',\n",
    "    host='127.0.0.1'\n",
    ")\n",
    "\n",
    "mycursor = cnx.cursor()\n",
    "\n",
    "try:\n",
    "    mycursor.execute(\"CREATE DATABASE musicstream\")\n",
    "    print(\"Base de datos 'musicstream' creada exitosamente.\")\n",
    "except mysql.connector.Error as err:\n",
    "    print(err)\n",
    "    print(\"Código de Error:\", err.errno)\n",
    "    print(\"SQLSTATE\", err.sqlstate)\n",
    "    print(\"Mensaje\", err.msg)\n",
    "\n",
    "cnx.close()"
   ]
  },
  {
   "cell_type": "code",
   "execution_count": 4,
   "id": "e74cc852",
   "metadata": {},
   "outputs": [
    {
     "name": "stdout",
     "output_type": "stream",
     "text": [
      "Tabla 'artista' creada exitosamente en 'musicstream'.\n"
     ]
    }
   ],
   "source": [
    "cnx = mysql.connector.connect(\n",
    "    user='root',\n",
    "    password='AlumnaAdalab',\n",
    "    host='127.0.0.1',\n",
    "    database='musicstream' # Ahora nos conectamos a la nueva DB\n",
    ")\n",
    "\n",
    "mycursor = cnx.cursor()\n",
    "\n",
    "try:\n",
    "    mycursor.execute(\"CREATE TABLE artista (id INT AUTO_INCREMENT PRIMARY KEY,nombre VARCHAR(255) UNIQUE,oyentes INT,reproducciones INT,biografia TEXT)\")\n",
    "    print(\"Tabla 'artista' creada exitosamente en 'musicstream'.\")\n",
    "except mysql.connector.Error as err:\n",
    "    print(err)\n",
    "    print(\"Código de Error:\", err.errno)\n",
    "    print(\"SQLSTATE\", err.sqlstate)\n",
    "    print(\"Mensaje\", err.msg)\n",
    "\n",
    "cnx.close()"
   ]
  },
  {
   "cell_type": "code",
   "execution_count": 5,
   "id": "4f7fcf9a",
   "metadata": {},
   "outputs": [
    {
     "name": "stdout",
     "output_type": "stream",
     "text": [
      "Tabla 'album' creada exitosamente en 'musicstream'.\n"
     ]
    }
   ],
   "source": [
    "cnx = mysql.connector.connect(\n",
    "    user='root',\n",
    "    password='AlumnaAdalab',\n",
    "    host='127.0.0.1',\n",
    "    database='musicstream' \n",
    ")\n",
    "\n",
    "mycursor = cnx.cursor()\n",
    "\n",
    "try:\n",
    "    mycursor.execute(\"CREATE TABLE album (id INT AUTO_INCREMENT PRIMARY KEY,nombre VARCHAR(255),artista VARCHAR(255),genero VARCHAR(100),tipo VARCHAR(50),anio INT)\")\n",
    "    print(\"Tabla 'album' creada exitosamente en 'musicstream'.\")\n",
    "except mysql.connector.Error as err:\n",
    "    print(err)\n",
    "    print(\"Código de Error:\", err.errno)\n",
    "    print(\"SQLSTATE\", err.sqlstate)\n",
    "    print(\"Mensaje\", err.msg)\n",
    "\n",
    "cnx.close()"
   ]
  },
  {
   "cell_type": "code",
   "execution_count": null,
   "id": "38bab776",
   "metadata": {},
   "outputs": [],
   "source": []
  }
 ],
 "metadata": {
  "kernelspec": {
   "display_name": "base",
   "language": "python",
   "name": "python3"
  },
  "language_info": {
   "codemirror_mode": {
    "name": "ipython",
    "version": 3
   },
   "file_extension": ".py",
   "mimetype": "text/x-python",
   "name": "python",
   "nbconvert_exporter": "python",
   "pygments_lexer": "ipython3",
   "version": "3.12.7"
  }
 },
 "nbformat": 4,
 "nbformat_minor": 5
}
