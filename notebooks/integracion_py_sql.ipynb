{
 "cells": [
  {
   "cell_type": "code",
   "execution_count": 1,
   "id": "3b5b23aa",
   "metadata": {},
   "outputs": [],
   "source": [
    "import mysql.connector\n",
    "from mysql.connector import errorcode\n",
    "\n",
    "import pandas as pd"
   ]
  },
  {
   "cell_type": "code",
   "execution_count": 2,
   "id": "13c71658",
   "metadata": {},
   "outputs": [
    {
     "name": "stdout",
     "output_type": "stream",
     "text": [
      "¡Conexión exitosa a MySQL!\n",
      "Conexión cerrada.\n"
     ]
    }
   ],
   "source": [
    "try:\n",
    "    # Intenta hacer la conexión con la base de datos 'tienda'\n",
    "    cnx = mysql.connector.connect(\n",
    "        user='root',\n",
    "        password='AlumnaAdalab',\n",
    "        host='127.0.0.1'\n",
    "    )\n",
    "    print(\"¡Conexión exitosa a MySQL!\") #\n",
    "\n",
    "except mysql.connector.Error as err:\n",
    "    # Si es un error de acceso denegado (ej. contraseña o usuario incorrecto)\n",
    "    if err.errno == errorcode.ER_ACCESS_DENIED_ERROR:\n",
    "        print(\"Algo está mal con tu nombre de usuario o contraseña.\") #\n",
    "    # Si la base de datos no existe\n",
    "    elif err.errno == errorcode.ER_BAD_DB_ERROR:\n",
    "        print(\"La base de datos no existe.\") #\n",
    "    # Para cualquier otro tipo de error\n",
    "    else:\n",
    "        print(err) #\n",
    "        print(\"Código de Error:\", err.errno) #\n",
    "        print(\"SQLSTATE\", err.sqlstate) #\n",
    "        print(\"Mensaje\", err.msg) #\n",
    "else:\n",
    "    # Si la conexión fue exitosa, cierra la conexión\n",
    "    cnx.close()\n",
    "    print(\"Conexión cerrada.\")"
   ]
  },
  {
   "cell_type": "code",
   "execution_count": 3,
   "id": "bf8aa10a",
   "metadata": {},
   "outputs": [
    {
     "name": "stdout",
     "output_type": "stream",
     "text": [
      "Base de datos 'musicstream' creada exitosamente.\n"
     ]
    }
   ],
   "source": [
    "cnx = mysql.connector.connect(\n",
    "    user='root',\n",
    "    password='AlumnaAdalab',\n",
    "    host='127.0.0.1'\n",
    ")\n",
    "\n",
    "mycursor = cnx.cursor()\n",
    "\n",
    "try:\n",
    "    mycursor.execute(\"CREATE DATABASE musicstream\")\n",
    "    print(\"Base de datos 'musicstream' creada exitosamente.\")\n",
    "except mysql.connector.Error as err:\n",
    "    print(err)\n",
    "    print(\"Código de Error:\", err.errno)\n",
    "    print(\"SQLSTATE\", err.sqlstate)\n",
    "    print(\"Mensaje\", err.msg)\n",
    "\n",
    "cnx.close()"
   ]
  },
  {
   "cell_type": "code",
   "execution_count": 33,
   "id": "e74cc852",
   "metadata": {},
   "outputs": [
    {
     "name": "stdout",
     "output_type": "stream",
     "text": [
      "Tabla 'artista' creada exitosamente en 'musicstream'.\n"
     ]
    }
   ],
   "source": [
    "cnx = mysql.connector.connect(\n",
    "    user='root',\n",
    "    password='AlumnaAdalab',\n",
    "    host='127.0.0.1',\n",
    "    database='musicstream' # Ahora nos conectamos a la nueva DB\n",
    ")\n",
    "\n",
    "mycursor = cnx.cursor()\n",
    "\n",
    "try:\n",
    "    mycursor.execute(\"CREATE TABLE artista (artista_id INT PRIMARY KEY AUTO_INCREMENT,nombre VARCHAR(255) UNIQUE,bio TEXT,oyentes INT,reproducciones INT);\")\n",
    "    print(\"Tabla 'artista' creada exitosamente en 'musicstream'.\")\n",
    "except mysql.connector.Error as err:\n",
    "    print(err)\n",
    "    print(\"Código de Error:\", err.errno)\n",
    "    print(\"SQLSTATE\", err.sqlstate)\n",
    "    print(\"Mensaje\", err.msg)\n",
    "\n",
    "cnx.close()"
   ]
  },
  {
   "cell_type": "code",
   "execution_count": null,
   "id": "9866b66a",
   "metadata": {},
   "outputs": [
    {
     "name": "stdout",
     "output_type": "stream",
     "text": [
      "Tabla 'canciones' creada exitosamente en 'musicstream'.\n"
     ]
    }
   ],
   "source": [
    "cnx = mysql.connector.connect(\n",
    "    user='root',\n",
    "    password='AlumnaAdalab',\n",
    "    host='127.0.0.1',\n",
    "    database='musicstream' \n",
    ")\n",
    "\n",
    "mycursor = cnx.cursor()\n",
    "\n",
    "try:\n",
    "    mycursor.execute(\"CREATE TABLE generos (genero_id INT PRIMARY KEY AUTO_INCREMENT,nombre VARCHAR(100) UNIQUE), \")\n",
    "    print(\"Tabla 'genero' creada exitosamente en 'musicstream'.\")\n",
    "except mysql.connector.Error as err:\n",
    "    print(err)\n",
    "    print(\"Código de Error:\", err.errno)\n",
    "    print(\"SQLSTATE\", err.sqlstate)\n",
    "    print(\"Mensaje\", err.msg)\n",
    "\n",
    "cnx.close()"
   ]
  },
  {
   "cell_type": "code",
   "execution_count": null,
   "id": "4f7fcf9a",
   "metadata": {},
   "outputs": [
    {
     "name": "stdout",
     "output_type": "stream",
     "text": [
      "Tabla 'canciones' creada exitosamente en 'musicstream'.\n"
     ]
    }
   ],
   "source": [
    "cnx = mysql.connector.connect(\n",
    "    user='root',\n",
    "    password='AlumnaAdalab',\n",
    "    host='127.0.0.1',\n",
    "    database='musicstream' \n",
    ")\n",
    "\n",
    "mycursor = cnx.cursor()\n",
    "\n",
    "try:\n",
    "    mycursor.execute(\"CREATE TABLE canciones (cancion_id VARCHAR(100) PRIMARY KEY,nombre VARCHAR(255),tipo VARCHAR(10),año_lanzamiento INT,genero_id INT,artista_id INT,FOREIGN KEY (genero_id) REFERENCES genero(genero_id),FOREIGN KEY (artista_id) REFERENCES artista(artista_id))\")\n",
    "    print(\"Tabla 'canciones' creada exitosamente en 'musicstream'.\")\n",
    "except mysql.connector.Error as err:\n",
    "    print(err)\n",
    "    print(\"Código de Error:\", err.errno)\n",
    "    print(\"SQLSTATE\", err.sqlstate)\n",
    "    print(\"Mensaje\", err.msg)\n",
    "\n",
    "cnx.close()"
   ]
  },
  {
   "cell_type": "code",
   "execution_count": 40,
   "id": "adc88446",
   "metadata": {},
   "outputs": [
    {
     "name": "stdout",
     "output_type": "stream",
     "text": [
      "Tabla 'estadisticas' creada exitosamente en 'musicstream'.\n"
     ]
    }
   ],
   "source": [
    "cnx = mysql.connector.connect(\n",
    "    user='root',\n",
    "    password='AlumnaAdalab',\n",
    "    host='127.0.0.1',\n",
    "    database='musicstream' \n",
    ")\n",
    "\n",
    "mycursor = cnx.cursor()\n",
    "\n",
    "try:\n",
    "    mycursor.execute(\"CREATE TABLE estadisticas (artista_id INT,oyentes INT,reproducciones INT,FOREIGN KEY (artista_id) REFERENCES artista(artista_id))\")\n",
    "    print(\"Tabla 'estadisticas' creada exitosamente en 'musicstream'.\")\n",
    "except mysql.connector.Error as err:\n",
    "    print(err)\n",
    "    print(\"Código de Error:\", err.errno)\n",
    "    print(\"SQLSTATE\", err.sqlstate)\n",
    "    print(\"Mensaje\", err.msg)\n",
    "\n",
    "cnx.close()"
   ]
  },
  {
   "cell_type": "code",
   "execution_count": 42,
   "id": "2c143a41",
   "metadata": {},
   "outputs": [
    {
     "name": "stdout",
     "output_type": "stream",
     "text": [
      "Tabla 'artistas_similares' creada exitosamente en 'musicstream'.\n"
     ]
    }
   ],
   "source": [
    "cnx = mysql.connector.connect(\n",
    "    user='root',\n",
    "    password='AlumnaAdalab',\n",
    "    host='127.0.0.1',\n",
    "    database='musicstream' \n",
    ")\n",
    "\n",
    "mycursor = cnx.cursor()\n",
    "\n",
    "try:\n",
    "    mycursor.execute(\"CREATE TABLE artistas_similares (artista_id INT,similar_1 VARCHAR(255),similar_2 VARCHAR(255),similar_3 VARCHAR(255),FOREIGN KEY (artista_id) REFERENCES artista(artista_id))\")\n",
    "    print(\"Tabla 'artistas_similares' creada exitosamente en 'musicstream'.\")\n",
    "except mysql.connector.Error as err:\n",
    "    print(err)\n",
    "    print(\"Código de Error:\", err.errno)\n",
    "    print(\"SQLSTATE\", err.sqlstate)\n",
    "    print(\"Mensaje\", err.msg)\n",
    "\n",
    "cnx.close()"
   ]
  },
  {
   "cell_type": "code",
   "execution_count": 43,
   "id": "38bab776",
   "metadata": {},
   "outputs": [],
   "source": [
    "df_tango = pd.read_csv(\"/Users/lucianayelicich/Desktop/da-project-promo-54-modulo-2-team-3/data/tango/tango_2000_2001.csv\")"
   ]
  },
  {
   "cell_type": "code",
   "execution_count": 44,
   "id": "972afed5",
   "metadata": {},
   "outputs": [],
   "source": [
    "df_flamenco = pd.read_csv(\"/Users/lucianayelicich/Desktop/da-project-promo-54-modulo-2-team-3/data/flamenco/flamenco_2000_2001.csv\")"
   ]
  },
  {
   "cell_type": "code",
   "execution_count": 45,
   "id": "5b9ec0c2",
   "metadata": {},
   "outputs": [],
   "source": [
    "df_hiphop = pd.read_csv(\"/Users/lucianayelicich/Desktop/da-project-promo-54-modulo-2-team-3/data/hip hop/hip_hop_2000_2001.csv\")"
   ]
  },
  {
   "cell_type": "code",
   "execution_count": 46,
   "id": "90cbb7b5",
   "metadata": {},
   "outputs": [],
   "source": [
    "df_orchestra = pd.read_csv(\"/Users/lucianayelicich/Desktop/da-project-promo-54-modulo-2-team-3/data/orchestra/orchestra_2000_2001.csv\")"
   ]
  },
  {
   "cell_type": "code",
   "execution_count": 47,
   "id": "20e5dc1d",
   "metadata": {},
   "outputs": [],
   "source": [
    "df_rock = pd.read_csv(\"/Users/lucianayelicich/Desktop/da-project-promo-54-modulo-2-team-3/data/rock/rock_2000_2001.csv\")"
   ]
  },
  {
   "cell_type": "code",
   "execution_count": 48,
   "id": "1697b811",
   "metadata": {},
   "outputs": [],
   "source": [
    "artistas_unicos_tango = df_tango.drop_duplicates(subset='artista')"
   ]
  },
  {
   "cell_type": "code",
   "execution_count": 49,
   "id": "b780a18a",
   "metadata": {},
   "outputs": [],
   "source": [
    "artistas_unicos_flamenco = df_flamenco.drop_duplicates(subset='artista')"
   ]
  },
  {
   "cell_type": "code",
   "execution_count": 50,
   "id": "c2ebd6ef",
   "metadata": {},
   "outputs": [],
   "source": [
    "artistas_unicos_hiphop = df_hiphop.drop_duplicates(subset='artista')"
   ]
  },
  {
   "cell_type": "code",
   "execution_count": 51,
   "id": "216094bf",
   "metadata": {},
   "outputs": [],
   "source": [
    "artistas_unicos_orchestra = df_orchestra.drop_duplicates(subset='artista')"
   ]
  },
  {
   "cell_type": "code",
   "execution_count": 52,
   "id": "0e510f88",
   "metadata": {},
   "outputs": [],
   "source": [
    "artistas_unicos_rock = df_rock.drop_duplicates(subset='artista')"
   ]
  },
  {
   "cell_type": "code",
   "execution_count": 55,
   "id": "38abd0dc",
   "metadata": {},
   "outputs": [],
   "source": [
    "df_artistas_unicos = pd.concat([\n",
    "    artistas_unicos_flamenco,\n",
    "    artistas_unicos_hiphop,\n",
    "    artistas_unicos_orchestra,\n",
    "    artistas_unicos_rock,\n",
    "    artistas_unicos_tango\n",
    "], ignore_index=True)"
   ]
  },
  {
   "cell_type": "code",
   "execution_count": 57,
   "id": "520ba6d2",
   "metadata": {},
   "outputs": [],
   "source": [
    "df_artistas_unicos = df_artistas_unicos.drop_duplicates(subset=\"artista\")"
   ]
  },
  {
   "cell_type": "code",
   "execution_count": 59,
   "id": "b94a9d32",
   "metadata": {},
   "outputs": [
    {
     "data": {
      "text/html": [
       "<div>\n",
       "<style scoped>\n",
       "    .dataframe tbody tr th:only-of-type {\n",
       "        vertical-align: middle;\n",
       "    }\n",
       "\n",
       "    .dataframe tbody tr th {\n",
       "        vertical-align: top;\n",
       "    }\n",
       "\n",
       "    .dataframe thead th {\n",
       "        text-align: right;\n",
       "    }\n",
       "</style>\n",
       "<table border=\"1\" class=\"dataframe\">\n",
       "  <thead>\n",
       "    <tr style=\"text-align: right;\">\n",
       "      <th></th>\n",
       "      <th>artista</th>\n",
       "      <th>genero</th>\n",
       "      <th>tipo</th>\n",
       "      <th>nombre</th>\n",
       "      <th>año_lanzamiento</th>\n",
       "      <th>id</th>\n",
       "      <th>bio</th>\n",
       "      <th>oyentes</th>\n",
       "      <th>reproducciones</th>\n",
       "      <th>similar_1</th>\n",
       "      <th>similar_2</th>\n",
       "      <th>similar_3</th>\n",
       "    </tr>\n",
       "  </thead>\n",
       "  <tbody>\n",
       "    <tr>\n",
       "      <th>0</th>\n",
       "      <td>Remedios Amaya</td>\n",
       "      <td>flamenco</td>\n",
       "      <td>track</td>\n",
       "      <td>El zarandeo</td>\n",
       "      <td>2000</td>\n",
       "      <td>7AlYBA5M9FVXDqN31cbExE</td>\n",
       "      <td>Remedios Amaya (born María Dolores Amaya Vega)...</td>\n",
       "      <td>26222.0</td>\n",
       "      <td>107806.0</td>\n",
       "      <td>Carmen Linares</td>\n",
       "      <td>José Mercé</td>\n",
       "      <td>Duquende</td>\n",
       "    </tr>\n",
       "    <tr>\n",
       "      <th>1</th>\n",
       "      <td>Nobuo Uematsu</td>\n",
       "      <td>flamenco</td>\n",
       "      <td>track</td>\n",
       "      <td>Vamo'alla flamenco</td>\n",
       "      <td>2000</td>\n",
       "      <td>4uqcES2h19TKAXQlciycrO</td>\n",
       "      <td>Nobuo Uematsu (Born March 21, 1959) is best kn...</td>\n",
       "      <td>254244.0</td>\n",
       "      <td>16903106.0</td>\n",
       "      <td>浜渦正志</td>\n",
       "      <td>Mitsuto Suzuki</td>\n",
       "      <td>崎元仁</td>\n",
       "    </tr>\n",
       "    <tr>\n",
       "      <th>2</th>\n",
       "      <td>Maurice Ravel</td>\n",
       "      <td>flamenco</td>\n",
       "      <td>track</td>\n",
       "      <td>Flamenco Bolero</td>\n",
       "      <td>2000</td>\n",
       "      <td>0z6xGK2u3nSsbk9XeKYwZQ</td>\n",
       "      <td>Joseph Maurice Ravel (7 March 1875 – 28 Decemb...</td>\n",
       "      <td>1149180.0</td>\n",
       "      <td>12361697.0</td>\n",
       "      <td>Claude Debussy</td>\n",
       "      <td>Gustav Mahler</td>\n",
       "      <td>Robert Schumann</td>\n",
       "    </tr>\n",
       "    <tr>\n",
       "      <th>3</th>\n",
       "      <td>Mark Towns</td>\n",
       "      <td>flamenco</td>\n",
       "      <td>track</td>\n",
       "      <td>After the Rain</td>\n",
       "      <td>2000</td>\n",
       "      <td>6DjfWx0fXi0uQpedpvaCD9</td>\n",
       "      <td>Mark Towns is a virtuoso guitarist and prolifi...</td>\n",
       "      <td>3108.0</td>\n",
       "      <td>13786.0</td>\n",
       "      <td>Mario Bauzá</td>\n",
       "      <td>Nestor Torres</td>\n",
       "      <td>Tito Rodriguez &amp; His Orchestra</td>\n",
       "    </tr>\n",
       "    <tr>\n",
       "      <th>4</th>\n",
       "      <td>Franz Schubert</td>\n",
       "      <td>flamenco</td>\n",
       "      <td>track</td>\n",
       "      <td>Tango Serenata (Ständchen)</td>\n",
       "      <td>2000</td>\n",
       "      <td>1t91qQaPbOoo4pumaLih4W</td>\n",
       "      <td>Franz Peter Schubert (31 January 1797 – 19 Nov...</td>\n",
       "      <td>1402273.0</td>\n",
       "      <td>17127920.0</td>\n",
       "      <td>Robert Schumann</td>\n",
       "      <td>Ludwig van Beethoven</td>\n",
       "      <td>Johannes Brahms</td>\n",
       "    </tr>\n",
       "  </tbody>\n",
       "</table>\n",
       "</div>"
      ],
      "text/plain": [
       "          artista    genero   tipo                      nombre  \\\n",
       "0  Remedios Amaya  flamenco  track                 El zarandeo   \n",
       "1   Nobuo Uematsu  flamenco  track          Vamo'alla flamenco   \n",
       "2   Maurice Ravel  flamenco  track             Flamenco Bolero   \n",
       "3      Mark Towns  flamenco  track              After the Rain   \n",
       "4  Franz Schubert  flamenco  track  Tango Serenata (Ständchen)   \n",
       "\n",
       "   año_lanzamiento                      id  \\\n",
       "0             2000  7AlYBA5M9FVXDqN31cbExE   \n",
       "1             2000  4uqcES2h19TKAXQlciycrO   \n",
       "2             2000  0z6xGK2u3nSsbk9XeKYwZQ   \n",
       "3             2000  6DjfWx0fXi0uQpedpvaCD9   \n",
       "4             2000  1t91qQaPbOoo4pumaLih4W   \n",
       "\n",
       "                                                 bio    oyentes  \\\n",
       "0  Remedios Amaya (born María Dolores Amaya Vega)...    26222.0   \n",
       "1  Nobuo Uematsu (Born March 21, 1959) is best kn...   254244.0   \n",
       "2  Joseph Maurice Ravel (7 March 1875 – 28 Decemb...  1149180.0   \n",
       "3  Mark Towns is a virtuoso guitarist and prolifi...     3108.0   \n",
       "4  Franz Peter Schubert (31 January 1797 – 19 Nov...  1402273.0   \n",
       "\n",
       "   reproducciones        similar_1             similar_2  \\\n",
       "0        107806.0   Carmen Linares            José Mercé   \n",
       "1      16903106.0             浜渦正志        Mitsuto Suzuki   \n",
       "2      12361697.0   Claude Debussy         Gustav Mahler   \n",
       "3         13786.0      Mario Bauzá         Nestor Torres   \n",
       "4      17127920.0  Robert Schumann  Ludwig van Beethoven   \n",
       "\n",
       "                        similar_3  \n",
       "0                        Duquende  \n",
       "1                             崎元仁  \n",
       "2                 Robert Schumann  \n",
       "3  Tito Rodriguez & His Orchestra  \n",
       "4                 Johannes Brahms  "
      ]
     },
     "execution_count": 59,
     "metadata": {},
     "output_type": "execute_result"
    }
   ],
   "source": [
    "df_artistas_unicos.head()"
   ]
  },
  {
   "cell_type": "code",
   "execution_count": 60,
   "id": "272d1b07",
   "metadata": {},
   "outputs": [],
   "source": [
    "df_artistas_unicos.to_csv(\"artistas_total_unicos.csv\")"
   ]
  },
  {
   "cell_type": "code",
   "execution_count": 66,
   "id": "5c76ed43",
   "metadata": {},
   "outputs": [],
   "source": [
    "cnx = mysql.connector.connect(\n",
    "    user='root',\n",
    "    password='AlumnaAdalab',\n",
    "    host='127.0.0.1',\n",
    "    database='musicstream' \n",
    ")\n",
    "\n",
    "mycursor = cnx.cursor()\n",
    "\n",
    "for i, (_, row) in enumerate(df_artistas_unicos.iterrows()):\n",
    "    mycursor.execute(\n",
    "        \"\"\"\n",
    "        INSERT IGNORE INTO artista (nombre, oyentes, reproducciones, bio)\n",
    "        VALUES (%s, %s, %s, %s)\n",
    "        \"\"\",\n",
    "        (\n",
    "            row['nombre'],\n",
    "            row['oyentes'] if pd.notna(row['oyentes']) else None,\n",
    "            row['reproducciones'] if pd.notna(row['reproducciones']) else None,\n",
    "            row['bio'] if pd.notna(row['bio']) else None,\n",
    "        )\n",
    "    )\n",
    "    if i % 50 == 49:  # commit después de cada 50 filas insertadas\n",
    "        cnx.commit()\n",
    "\n",
    "cnx.commit()\n",
    "cnx.close()\n"
   ]
  },
  {
   "cell_type": "code",
   "execution_count": 88,
   "id": "8cde95ac",
   "metadata": {},
   "outputs": [
    {
     "name": "stdout",
     "output_type": "stream",
     "text": [
      "✅ Todas las canciones se han insertado con sus claves foráneas correctamente.\n"
     ]
    }
   ],
   "source": [
    "# --------------------------------\n",
    "# 2. CONECTARSE A LA BASE DE DATOS\n",
    "# --------------------------------\n",
    "cnx = mysql.connector.connect(\n",
    "    user='root',             # Tu usuario de MySQL\n",
    "    password='AlumnaAdalab', # Tu contraseña\n",
    "    host='127.0.0.1',        # Servidor local\n",
    "    database='musicstream'   # Base de datos donde están las tablas\n",
    ")\n",
    "cursor = cnx.cursor()       # Cursor para ejecutar comandos SQL\n",
    "\n",
    "# --------------------------------\n",
    "# 3. RECORRER CANCIONES Y BUSCAR CLAVES FORÁNEAS\n",
    "# --------------------------------\n",
    "for i, row in df_artistas_unicos.iterrows():\n",
    "    # 3.1 Buscamos artista_id en la tabla 'artista' usando el nombre\n",
    "    cursor.execute(\n",
    "        \"SELECT artista_id FROM artista WHERE nombre = %s\",\n",
    "        (row['artista'],)           # Siempre tupla para un solo parámetro\n",
    "    )\n",
    "    resultado = cursor.fetchone()   # fetchone() devuelve una tupla o None\n",
    "    if resultado:\n",
    "        artista_id = resultado[0]    # El primer (y único) campo es el ID\n",
    "    else:\n",
    "        # Si no existe el artista en la tabla, saltamos esta canción\n",
    "        continue\n",
    "\n",
    "    # 3.2 Buscamos genero_id en la tabla 'generos' usando el nombre del género\n",
    "    cursor.execute(\n",
    "        \"SELECT genero_id FROM generos WHERE nombre = %s\",\n",
    "        (row['genero'],)\n",
    "    )\n",
    "    resultado = cursor.fetchone()\n",
    "    if resultado:\n",
    "        genero_id = resultado[0]\n",
    "    else:\n",
    "        # Si no existe el género, saltamos esta canción\n",
    "        continue\n",
    "\n",
    "    # --------------------------------\n",
    "    # 4. INSERTAR LA CANCIÓN CON SUS FKs\n",
    "    # --------------------------------\n",
    "    cursor.execute(\n",
    "        \"\"\"\n",
    "        INSERT IGNORE INTO canciones\n",
    "          (cancion_id, nombre, tipo, año_lanzamiento, artista_id, genero_id)\n",
    "        VALUES (%s, %s, %s, %s, %s, %s)\n",
    "        \"\"\",\n",
    "        (\n",
    "            row['id'],                # 1. ID de la canción\n",
    "            row['nombre'],            # 2. Nombre de la canción\n",
    "            row['tipo'],              # 3. Tipo: 'track' o 'album'\n",
    "            row['año_lanzamiento'],   # 4. Año de lanzamiento\n",
    "            artista_id,               # 5. FK: artista_id obtenido arriba\n",
    "            genero_id                 # 6. FK: genero_id obtenido arriba\n",
    "        )\n",
    "    )\n",
    "\n",
    "    # Hacemos commit cada 50 inserciones para no saturar la base\n",
    "    if i % 50 == 49:\n",
    "        cnx.commit()\n",
    "\n",
    "# --------------------------------\n",
    "# 5. GUARDAR CAMBIOS Y CERRAR\n",
    "# --------------------------------\n",
    "cnx.commit()     # Guardamos cualquier inserción restante\n",
    "cursor.close()   # Cerramos el cursor\n",
    "cnx.close()      # Cerramos la conexión\n",
    "\n",
    "print(\"✅ Todas las canciones se han insertado con sus claves foráneas correctamente.\")\n"
   ]
  },
  {
   "cell_type": "code",
   "execution_count": 86,
   "id": "6a0f12f9",
   "metadata": {},
   "outputs": [],
   "source": [
    "cnx = mysql.connector.connect(\n",
    "    user='root',\n",
    "    password='AlumnaAdalab',\n",
    "    host='127.0.0.1',\n",
    "    database='musicstream' \n",
    ")\n",
    "\n",
    "mycursor = cnx.cursor()\n",
    "\n",
    "for i, (_, row) in enumerate(df_artistas_unicos.iterrows()):\n",
    "    mycursor.execute(\"SELECT genero_id FROM generos WHERE nombre = %s\", (row['genero'],))\n",
    "    genero_result = mycursor.fetchone()\n",
    "    genero_id = genero_result[0] if genero_result else None\n",
    "    \n",
    "    mycursor.execute(\"SELECT artista_id FROM artista WHERE nombre = %s\", (row['artista'],))\n",
    "    artista_result = mycursor.fetchone()\n",
    "    artista_id = artista_result[0] if artista_result else None\n",
    "    \n",
    "    if not genero_id or not artista_id:\n",
    "        continue\n",
    "\n",
    "    mycursor.execute(\"\"\"\n",
    "        INSERT IGNORE INTO canciones (cancion_id, nombre, tipo, año_lanzamiento, genero_id, artista_id)\n",
    "        VALUES (%s, %s, %s, %s, %s, %s)\n",
    "        \"\"\", (\n",
    "            row['id'],                  # ID de la canción\n",
    "            row['nombre'],              # Nombre de la canción\n",
    "            row['tipo'],                # Si es \"track\" o \"album\"\n",
    "            row['año_lanzamiento'],     # El año\n",
    "            genero_id,\n",
    "            artista_id    \n",
    "        )\n",
    "    )\n",
    "    if i % 50 == 49:  # commit después de cada 50 filas insertadas\n",
    "        cnx.commit()\n",
    "\n",
    "cnx.commit()  # commit final para insertar las filas restantes\n",
    "mycursor.close()  # cierra el cursor\n",
    "cnx.close()  # cierra la conexión"
   ]
  },
  {
   "cell_type": "code",
   "execution_count": null,
   "id": "3f48711c",
   "metadata": {},
   "outputs": [],
   "source": []
  }
 ],
 "metadata": {
  "kernelspec": {
   "display_name": "base",
   "language": "python",
   "name": "python3"
  },
  "language_info": {
   "codemirror_mode": {
    "name": "ipython",
    "version": 3
   },
   "file_extension": ".py",
   "mimetype": "text/x-python",
   "name": "python",
   "nbconvert_exporter": "python",
   "pygments_lexer": "ipython3",
   "version": "3.12.7"
  }
 },
 "nbformat": 4,
 "nbformat_minor": 5
}
