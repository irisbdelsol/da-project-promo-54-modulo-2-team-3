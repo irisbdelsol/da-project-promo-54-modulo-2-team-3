{
 "cells": [
  {
   "cell_type": "markdown",
   "id": "245eeece",
   "metadata": {},
   "source": [
    "1. Introducción de los datos en la API"
   ]
  },
  {
   "cell_type": "code",
   "execution_count": 1,
   "id": "bc70c521",
   "metadata": {},
   "outputs": [],
   "source": [
    "import pandas as pd\n",
    "import requests "
   ]
  },
  {
   "cell_type": "code",
   "execution_count": 2,
   "id": "73058a54",
   "metadata": {},
   "outputs": [],
   "source": [
    "CLIENT_ID = '0d8b0fde96224dbcbff483f486a43059'\n",
    "CLIENT_SECRET = '0f9b015f516440d5a1a612530c37da87'"
   ]
  },
  {
   "cell_type": "code",
   "execution_count": 3,
   "id": "e53db58c",
   "metadata": {},
   "outputs": [],
   "source": [
    "import spotipy\n",
    "from spotipy.oauth2 import SpotifyClientCredentials"
   ]
  },
  {
   "cell_type": "code",
   "execution_count": 4,
   "id": "d0821e0a",
   "metadata": {},
   "outputs": [],
   "source": [
    "# Autenticación\n",
    "auth_manager = SpotifyClientCredentials(client_id=CLIENT_ID, client_secret=CLIENT_SECRET)\n",
    "sp = spotipy.Spotify(auth_manager=auth_manager)"
   ]
  },
  {
   "cell_type": "markdown",
   "id": "96e34ac6",
   "metadata": {},
   "source": [
    "2. Petición de datos  \n",
    "- género: orchestral\n",
    "- años: del 2000 al 2001\n",
    "- 200 canciones (cada año)"
   ]
  },
  {
   "cell_type": "code",
   "execution_count": 5,
   "id": "b146aa4f",
   "metadata": {},
   "outputs": [],
   "source": [
    "def info_peticion (datos):\n",
    "    print(type(datos))\n",
    "    print(datos['tracks'].keys())\n",
    "    print(len(datos[\"tracks\"][\"items\"])) # Cada item es una canción \n"
   ]
  },
  {
   "cell_type": "code",
   "execution_count": 6,
   "id": "19da9ec4",
   "metadata": {},
   "outputs": [],
   "source": [
    "def query (year, offset):\n",
    "    query = (f\"genre:orchestral year:{year}\") # Solo vamos a pasar el genero y el año en la query\n",
    "    # offset = 0 --> 50 tot / 50 --> 100 tot / 100 --> 150 tot / 150 --> 200 tot\n",
    "    datos = sp.search(q=query, type='track', limit=50, offset=offset) # type='track'\n",
    "    return datos"
   ]
  },
  {
   "cell_type": "code",
   "execution_count": 7,
   "id": "a410cf09",
   "metadata": {},
   "outputs": [
    {
     "name": "stdout",
     "output_type": "stream",
     "text": [
      "<class 'dict'>\n",
      "<class 'dict'>\n",
      "dict_keys(['href', 'limit', 'next', 'offset', 'previous', 'total', 'items'])\n",
      "50\n"
     ]
    }
   ],
   "source": [
    "datos_2000_1 = query(2000,0) # 0 - 50\n",
    "print(type(datos_2000_1))\n",
    "info_peticion(datos_2000_1)"
   ]
  },
  {
   "cell_type": "code",
   "execution_count": 8,
   "id": "c7606359",
   "metadata": {},
   "outputs": [
    {
     "name": "stdout",
     "output_type": "stream",
     "text": [
      "<class 'dict'>\n",
      "dict_keys(['href', 'limit', 'next', 'offset', 'previous', 'total', 'items'])\n",
      "50\n"
     ]
    }
   ],
   "source": [
    "datos_2000_2 = query(2000,50) # 50 - 100\n",
    "info_peticion(datos_2000_2)"
   ]
  },
  {
   "cell_type": "code",
   "execution_count": 9,
   "id": "4e4e7b0a",
   "metadata": {},
   "outputs": [
    {
     "name": "stdout",
     "output_type": "stream",
     "text": [
      "<class 'dict'>\n",
      "dict_keys(['href', 'limit', 'next', 'offset', 'previous', 'total', 'items'])\n",
      "50\n"
     ]
    }
   ],
   "source": [
    "datos_2000_3 = query(2000,100) # 100 - 150\n",
    "info_peticion(datos_2000_3)"
   ]
  },
  {
   "cell_type": "code",
   "execution_count": 10,
   "id": "86f7d83e",
   "metadata": {},
   "outputs": [
    {
     "name": "stdout",
     "output_type": "stream",
     "text": [
      "<class 'dict'>\n",
      "dict_keys(['href', 'limit', 'next', 'offset', 'previous', 'total', 'items'])\n",
      "50\n"
     ]
    }
   ],
   "source": [
    "datos_2000_4 = query(2000,150) # 150 - 200\n",
    "info_peticion(datos_2000_4)"
   ]
  },
  {
   "cell_type": "code",
   "execution_count": 11,
   "id": "54ec0738",
   "metadata": {},
   "outputs": [
    {
     "name": "stdout",
     "output_type": "stream",
     "text": [
      "<class 'dict'>\n",
      "<class 'dict'>\n",
      "dict_keys(['href', 'limit', 'next', 'offset', 'previous', 'total', 'items'])\n",
      "50\n"
     ]
    }
   ],
   "source": [
    "datos_2001_1 = query(2001,0) # 0 - 50\n",
    "print(type(datos_2001_1))\n",
    "info_peticion(datos_2001_1)"
   ]
  },
  {
   "cell_type": "markdown",
   "id": "fe95cc8b",
   "metadata": {},
   "source": [
    "3. Guardado de datos:  \n",
    "artista / genero / tipo / nombre / anio_lanzamiento / id"
   ]
  },
  {
   "cell_type": "code",
   "execution_count": 12,
   "id": "a45efe95",
   "metadata": {},
   "outputs": [],
   "source": [
    "def obtencion_datos (datos, resultados, artistas):\n",
    "    for item in datos[\"tracks\"][\"items\"][:50]:\n",
    "        try:\n",
    "            artista = item['artists'][0]['name'] if item['artists'][0]['name'] else 'Sin datos'\n",
    "            tipo = item['type'] if item['type'] else 'Sin datos'\n",
    "            anio_lanzamiento = item['album']['release_date'][:4] if item['album']['release_date'] else \"Sin Datos\"\n",
    "        \n",
    "            resultados.append({\n",
    "                'artista' : artista,\n",
    "                'genero':'orchestral',\n",
    "                'tipo': tipo,\n",
    "                'nombre':item['name'], \n",
    "                'anio_lanzamiento' : anio_lanzamiento,\n",
    "                'id':item['id'] })\n",
    "\n",
    "            artistas.append(item['artists'][0]['name'])\n",
    "        except:\n",
    "            print('Error procesando item')"
   ]
  },
  {
   "cell_type": "code",
   "execution_count": 13,
   "id": "c6058760",
   "metadata": {},
   "outputs": [
    {
     "name": "stdout",
     "output_type": "stream",
     "text": [
      "50\n",
      "50\n",
      "['Wilhelm Furtwängler', 'Ataúlfo Argenta', 'José Serebrier', 'Pierre Boulez', 'Wilhelm Furtwängler']\n",
      "['Michail Jurowski', 'Wilhelm Furtwängler', 'José Serebrier', 'André Previn', 'Sir David Willcocks']\n"
     ]
    }
   ],
   "source": [
    "res_orch1 = []\n",
    "art_orch1 = []\n",
    "obtencion_datos(datos_2000_1, res_orch1, art_orch1)\n",
    "\n",
    "print(len(res_orch1))\n",
    "print(len(art_orch1))\n",
    "print(art_orch1[:5])\n",
    "print(art_orch1[45:50])"
   ]
  },
  {
   "cell_type": "code",
   "execution_count": 14,
   "id": "3ff61a1d",
   "metadata": {},
   "outputs": [
    {
     "name": "stdout",
     "output_type": "stream",
     "text": [
      "50\n",
      "50\n",
      "['André Previn', 'Nino Rota', 'Pierre Boulez', 'André Previn', 'Leonard Bernstein']\n",
      "['André Previn', 'Nino Rota', 'Leonard Bernstein', 'José Serebrier', 'André Previn']\n"
     ]
    }
   ],
   "source": [
    "res_orch2 = []\n",
    "art_orch2 = []\n",
    "obtencion_datos(datos_2000_2, res_orch2, art_orch2)\n",
    "\n",
    "print(len(res_orch2))\n",
    "print(len(art_orch2))\n",
    "print(art_orch2[:5])\n",
    "print(art_orch2[45:50])"
   ]
  },
  {
   "cell_type": "code",
   "execution_count": 15,
   "id": "f9658b43",
   "metadata": {},
   "outputs": [
    {
     "name": "stdout",
     "output_type": "stream",
     "text": [
      "50\n",
      "50\n",
      "['André Previn', 'Leonard Bernstein', 'José Serebrier', 'Leonard Bernstein', 'Nino Rota']\n",
      "['Serge Koussevitzky', 'Leonard Bernstein', 'Wilhelm Furtwängler', 'Ennio Morricone', 'Wilhelm Furtwängler']\n"
     ]
    }
   ],
   "source": [
    "res_orch3 = []\n",
    "art_orch3 = []\n",
    "obtencion_datos(datos_2000_3, res_orch3, art_orch3)\n",
    "\n",
    "print(len(res_orch3))\n",
    "print(len(art_orch3))\n",
    "print(art_orch3[:5])\n",
    "print(art_orch3[45:50])"
   ]
  },
  {
   "cell_type": "code",
   "execution_count": 16,
   "id": "20ef79a1",
   "metadata": {},
   "outputs": [
    {
     "name": "stdout",
     "output_type": "stream",
     "text": [
      "50\n",
      "50\n",
      "['Otmar Suitner', 'Marco Beltrami', 'Thomas Newman', 'Wilhelm Furtwängler', 'Nino Rota']\n",
      "['Michail Jurowski', 'Marco Beltrami', 'José Serebrier', 'Helmuth Rilling', 'John Williams']\n"
     ]
    }
   ],
   "source": [
    "res_orch4 = []\n",
    "art_orch4 = []\n",
    "obtencion_datos(datos_2000_4, res_orch4, art_orch4)\n",
    "\n",
    "print(len(res_orch4))\n",
    "print(len(art_orch4))\n",
    "print(art_orch4[:5])\n",
    "print(art_orch4[45:50])"
   ]
  },
  {
   "cell_type": "markdown",
   "id": "be29e6e2",
   "metadata": {},
   "source": [
    "4. Creación de tabla con datos"
   ]
  },
  {
   "cell_type": "markdown",
   "id": "261fc1b7",
   "metadata": {},
   "source": [
    "--> Unimos las 4 listas"
   ]
  },
  {
   "cell_type": "code",
   "execution_count": 17,
   "id": "0a94c0b6",
   "metadata": {},
   "outputs": [
    {
     "name": "stdout",
     "output_type": "stream",
     "text": [
      "200\n",
      "200\n"
     ]
    }
   ],
   "source": [
    "datos_orch_2000 = res_orch1 + res_orch2 + res_orch3 + res_orch4 # lista única con las 200 canciones\n",
    "datos_artistas_orch_2000 = art_orch1 + art_orch2 + art_orch2 + art_orch4 # lista única con los artistas\n",
    "\n",
    "print(len(datos_orch_2000))\n",
    "print(len(datos_artistas_orch_2000))\n"
   ]
  },
  {
   "cell_type": "code",
   "execution_count": 18,
   "id": "c5491860",
   "metadata": {},
   "outputs": [
    {
     "data": {
      "text/html": [
       "<div>\n",
       "<style scoped>\n",
       "    .dataframe tbody tr th:only-of-type {\n",
       "        vertical-align: middle;\n",
       "    }\n",
       "\n",
       "    .dataframe tbody tr th {\n",
       "        vertical-align: top;\n",
       "    }\n",
       "\n",
       "    .dataframe thead th {\n",
       "        text-align: right;\n",
       "    }\n",
       "</style>\n",
       "<table border=\"1\" class=\"dataframe\">\n",
       "  <thead>\n",
       "    <tr style=\"text-align: right;\">\n",
       "      <th></th>\n",
       "      <th>artista</th>\n",
       "      <th>genero</th>\n",
       "      <th>tipo</th>\n",
       "      <th>nombre</th>\n",
       "      <th>anio_lanzamiento</th>\n",
       "      <th>id</th>\n",
       "    </tr>\n",
       "  </thead>\n",
       "  <tbody>\n",
       "    <tr>\n",
       "      <th>0</th>\n",
       "      <td>Wilhelm Furtwängler</td>\n",
       "      <td>orchestral</td>\n",
       "      <td>track</td>\n",
       "      <td>Götterdämmerung, Act I: IV. \"Wilkommen, Gast, ...</td>\n",
       "      <td>2000</td>\n",
       "      <td>5aQ8jkUtIeeOzb02GfKt2V</td>\n",
       "    </tr>\n",
       "    <tr>\n",
       "      <th>1</th>\n",
       "      <td>Ataúlfo Argenta</td>\n",
       "      <td>orchestral</td>\n",
       "      <td>track</td>\n",
       "      <td>Hay En Mi Jardin (There Is My Garden)</td>\n",
       "      <td>2000</td>\n",
       "      <td>1XtgOGeTogh5iUEJYN20zG</td>\n",
       "    </tr>\n",
       "    <tr>\n",
       "      <th>2</th>\n",
       "      <td>José Serebrier</td>\n",
       "      <td>orchestral</td>\n",
       "      <td>track</td>\n",
       "      <td>Suite Canina: Transformation And Toccata - Pro...</td>\n",
       "      <td>2000</td>\n",
       "      <td>1s3lTMW5pjY0Xz2vOK6o0C</td>\n",
       "    </tr>\n",
       "    <tr>\n",
       "      <th>3</th>\n",
       "      <td>Pierre Boulez</td>\n",
       "      <td>orchestral</td>\n",
       "      <td>track</td>\n",
       "      <td>Boulez : Pli selon pli : I Don</td>\n",
       "      <td>2000</td>\n",
       "      <td>3J6Vkg9jl2tRbN09Vo5Vy5</td>\n",
       "    </tr>\n",
       "    <tr>\n",
       "      <th>4</th>\n",
       "      <td>Wilhelm Furtwängler</td>\n",
       "      <td>orchestral</td>\n",
       "      <td>track</td>\n",
       "      <td>Siegfried, Act III: VII. \"Dort seh' ich Grane\"...</td>\n",
       "      <td>2000</td>\n",
       "      <td>3SkazEe1K1P73o2yHfCkWK</td>\n",
       "    </tr>\n",
       "  </tbody>\n",
       "</table>\n",
       "</div>"
      ],
      "text/plain": [
       "               artista      genero   tipo  \\\n",
       "0  Wilhelm Furtwängler  orchestral  track   \n",
       "1      Ataúlfo Argenta  orchestral  track   \n",
       "2       José Serebrier  orchestral  track   \n",
       "3        Pierre Boulez  orchestral  track   \n",
       "4  Wilhelm Furtwängler  orchestral  track   \n",
       "\n",
       "                                              nombre anio_lanzamiento  \\\n",
       "0  Götterdämmerung, Act I: IV. \"Wilkommen, Gast, ...             2000   \n",
       "1              Hay En Mi Jardin (There Is My Garden)             2000   \n",
       "2  Suite Canina: Transformation And Toccata - Pro...             2000   \n",
       "3                     Boulez : Pli selon pli : I Don             2000   \n",
       "4  Siegfried, Act III: VII. \"Dort seh' ich Grane\"...             2000   \n",
       "\n",
       "                       id  \n",
       "0  5aQ8jkUtIeeOzb02GfKt2V  \n",
       "1  1XtgOGeTogh5iUEJYN20zG  \n",
       "2  1s3lTMW5pjY0Xz2vOK6o0C  \n",
       "3  3J6Vkg9jl2tRbN09Vo5Vy5  \n",
       "4  3SkazEe1K1P73o2yHfCkWK  "
      ]
     },
     "execution_count": 18,
     "metadata": {},
     "output_type": "execute_result"
    }
   ],
   "source": [
    "df_orch_2000 = pd.DataFrame(datos_orch_2000)\n",
    "df_orch_2000.head()"
   ]
  },
  {
   "cell_type": "code",
   "execution_count": 19,
   "id": "d1dd7e07",
   "metadata": {},
   "outputs": [
    {
     "data": {
      "text/html": [
       "<div>\n",
       "<style scoped>\n",
       "    .dataframe tbody tr th:only-of-type {\n",
       "        vertical-align: middle;\n",
       "    }\n",
       "\n",
       "    .dataframe tbody tr th {\n",
       "        vertical-align: top;\n",
       "    }\n",
       "\n",
       "    .dataframe thead th {\n",
       "        text-align: right;\n",
       "    }\n",
       "</style>\n",
       "<table border=\"1\" class=\"dataframe\">\n",
       "  <thead>\n",
       "    <tr style=\"text-align: right;\">\n",
       "      <th></th>\n",
       "      <th>artista</th>\n",
       "      <th>genero</th>\n",
       "      <th>tipo</th>\n",
       "      <th>nombre</th>\n",
       "      <th>anio_lanzamiento</th>\n",
       "      <th>id</th>\n",
       "    </tr>\n",
       "  </thead>\n",
       "  <tbody>\n",
       "    <tr>\n",
       "      <th>195</th>\n",
       "      <td>Michail Jurowski</td>\n",
       "      <td>orchestral</td>\n",
       "      <td>track</td>\n",
       "      <td>L'Africaine: L'Africaine: Prelude</td>\n",
       "      <td>2000</td>\n",
       "      <td>2pceem3MQKtiyckOkVNJw5</td>\n",
       "    </tr>\n",
       "    <tr>\n",
       "      <th>196</th>\n",
       "      <td>Marco Beltrami</td>\n",
       "      <td>orchestral</td>\n",
       "      <td>track</td>\n",
       "      <td>Luv In An Elevator</td>\n",
       "      <td>2000</td>\n",
       "      <td>3pMGLqUHtHEjWufknyjkIt</td>\n",
       "    </tr>\n",
       "    <tr>\n",
       "      <th>197</th>\n",
       "      <td>José Serebrier</td>\n",
       "      <td>orchestral</td>\n",
       "      <td>track</td>\n",
       "      <td>Erotica (Produced)</td>\n",
       "      <td>2000</td>\n",
       "      <td>1wPvRNlq1ihRpx3h7wCVsb</td>\n",
       "    </tr>\n",
       "    <tr>\n",
       "      <th>198</th>\n",
       "      <td>Helmuth Rilling</td>\n",
       "      <td>orchestral</td>\n",
       "      <td>track</td>\n",
       "      <td>Christmas Oratorio, BWV 248: Pre-Concert Talk:...</td>\n",
       "      <td>2000</td>\n",
       "      <td>0QfSEYMGDXafJeRTMA7M7Y</td>\n",
       "    </tr>\n",
       "    <tr>\n",
       "      <th>199</th>\n",
       "      <td>John Williams</td>\n",
       "      <td>orchestral</td>\n",
       "      <td>track</td>\n",
       "      <td>Star Wars, Episode IV, \"A New Hope\" (arr. R. H...</td>\n",
       "      <td>2000</td>\n",
       "      <td>7qkSZZMfx2XBNnrL7I2U9O</td>\n",
       "    </tr>\n",
       "  </tbody>\n",
       "</table>\n",
       "</div>"
      ],
      "text/plain": [
       "              artista      genero   tipo  \\\n",
       "195  Michail Jurowski  orchestral  track   \n",
       "196    Marco Beltrami  orchestral  track   \n",
       "197    José Serebrier  orchestral  track   \n",
       "198   Helmuth Rilling  orchestral  track   \n",
       "199     John Williams  orchestral  track   \n",
       "\n",
       "                                                nombre anio_lanzamiento  \\\n",
       "195                  L'Africaine: L'Africaine: Prelude             2000   \n",
       "196                                 Luv In An Elevator             2000   \n",
       "197                                 Erotica (Produced)             2000   \n",
       "198  Christmas Oratorio, BWV 248: Pre-Concert Talk:...             2000   \n",
       "199  Star Wars, Episode IV, \"A New Hope\" (arr. R. H...             2000   \n",
       "\n",
       "                         id  \n",
       "195  2pceem3MQKtiyckOkVNJw5  \n",
       "196  3pMGLqUHtHEjWufknyjkIt  \n",
       "197  1wPvRNlq1ihRpx3h7wCVsb  \n",
       "198  0QfSEYMGDXafJeRTMA7M7Y  \n",
       "199  7qkSZZMfx2XBNnrL7I2U9O  "
      ]
     },
     "execution_count": 19,
     "metadata": {},
     "output_type": "execute_result"
    }
   ],
   "source": [
    "df_orch_2000.tail()"
   ]
  },
  {
   "cell_type": "code",
   "execution_count": null,
   "id": "26948ea5",
   "metadata": {},
   "outputs": [],
   "source": []
  },
  {
   "cell_type": "code",
   "execution_count": null,
   "id": "79d6c31b",
   "metadata": {},
   "outputs": [],
   "source": []
  },
  {
   "cell_type": "code",
   "execution_count": 20,
   "id": "8422f2f0",
   "metadata": {},
   "outputs": [
    {
     "ename": "NameError",
     "evalue": "name 'resultados_orch' is not defined",
     "output_type": "error",
     "traceback": [
      "\u001b[1;31m---------------------------------------------------------------------------\u001b[0m",
      "\u001b[1;31mNameError\u001b[0m                                 Traceback (most recent call last)",
      "Cell \u001b[1;32mIn[20], line 1\u001b[0m\n\u001b[1;32m----> 1\u001b[0m df_orch \u001b[38;5;241m=\u001b[39m pd\u001b[38;5;241m.\u001b[39mDataFrame(resultados_orch)\n\u001b[0;32m      2\u001b[0m df_orch\u001b[38;5;241m.\u001b[39mhead()\n",
      "\u001b[1;31mNameError\u001b[0m: name 'resultados_orch' is not defined"
     ]
    }
   ],
   "source": [
    "df_orch = pd.DataFrame(resultados_orch)\n",
    "df_orch.head()"
   ]
  },
  {
   "cell_type": "code",
   "execution_count": null,
   "id": "dbeaa0c5",
   "metadata": {},
   "outputs": [
    {
     "data": {
      "text/html": [
       "<div>\n",
       "<style scoped>\n",
       "    .dataframe tbody tr th:only-of-type {\n",
       "        vertical-align: middle;\n",
       "    }\n",
       "\n",
       "    .dataframe tbody tr th {\n",
       "        vertical-align: top;\n",
       "    }\n",
       "\n",
       "    .dataframe thead th {\n",
       "        text-align: right;\n",
       "    }\n",
       "</style>\n",
       "<table border=\"1\" class=\"dataframe\">\n",
       "  <thead>\n",
       "    <tr style=\"text-align: right;\">\n",
       "      <th></th>\n",
       "      <th>artista</th>\n",
       "      <th>genero</th>\n",
       "      <th>tipo</th>\n",
       "      <th>nombre</th>\n",
       "      <th>anio_lanzamiento</th>\n",
       "      <th>id</th>\n",
       "    </tr>\n",
       "  </thead>\n",
       "  <tbody>\n",
       "    <tr>\n",
       "      <th>45</th>\n",
       "      <td>Michail Jurowski</td>\n",
       "      <td>orchestral</td>\n",
       "      <td>track</td>\n",
       "      <td>Struensee: Act V: Funeral March</td>\n",
       "      <td>2000</td>\n",
       "      <td>2PB46ezpx9UBubUiYSVtPa</td>\n",
       "    </tr>\n",
       "    <tr>\n",
       "      <th>46</th>\n",
       "      <td>Nino Rota</td>\n",
       "      <td>orchestral</td>\n",
       "      <td>track</td>\n",
       "      <td>Trio for Flute, Violin and Piano: II. Andante ...</td>\n",
       "      <td>2000</td>\n",
       "      <td>3DReR5nwyuq996ZaVIPI67</td>\n",
       "    </tr>\n",
       "    <tr>\n",
       "      <th>47</th>\n",
       "      <td>Leonard Bernstein</td>\n",
       "      <td>orchestral</td>\n",
       "      <td>track</td>\n",
       "      <td>West Side Story: IV. Maria (Arr. D. Sorenson)</td>\n",
       "      <td>2000</td>\n",
       "      <td>7mlE3hlVZvFGEoNXcepq0s</td>\n",
       "    </tr>\n",
       "    <tr>\n",
       "      <th>48</th>\n",
       "      <td>André Previn</td>\n",
       "      <td>orchestral</td>\n",
       "      <td>track</td>\n",
       "      <td>Then You May Take Me To The Fair</td>\n",
       "      <td>2000</td>\n",
       "      <td>51IufFCU7iOoGbavmIRK8S</td>\n",
       "    </tr>\n",
       "    <tr>\n",
       "      <th>49</th>\n",
       "      <td>Leonard Bernstein</td>\n",
       "      <td>orchestral</td>\n",
       "      <td>track</td>\n",
       "      <td>A White House Cantata / Part 2: Pity the Poor</td>\n",
       "      <td>2000</td>\n",
       "      <td>61TmxECX9M4mL9BUT1qYhJ</td>\n",
       "    </tr>\n",
       "  </tbody>\n",
       "</table>\n",
       "</div>"
      ],
      "text/plain": [
       "              artista      genero   tipo  \\\n",
       "45   Michail Jurowski  orchestral  track   \n",
       "46          Nino Rota  orchestral  track   \n",
       "47  Leonard Bernstein  orchestral  track   \n",
       "48       André Previn  orchestral  track   \n",
       "49  Leonard Bernstein  orchestral  track   \n",
       "\n",
       "                                               nombre anio_lanzamiento  \\\n",
       "45                    Struensee: Act V: Funeral March             2000   \n",
       "46  Trio for Flute, Violin and Piano: II. Andante ...             2000   \n",
       "47      West Side Story: IV. Maria (Arr. D. Sorenson)             2000   \n",
       "48                   Then You May Take Me To The Fair             2000   \n",
       "49      A White House Cantata / Part 2: Pity the Poor             2000   \n",
       "\n",
       "                        id  \n",
       "45  2PB46ezpx9UBubUiYSVtPa  \n",
       "46  3DReR5nwyuq996ZaVIPI67  \n",
       "47  7mlE3hlVZvFGEoNXcepq0s  \n",
       "48  51IufFCU7iOoGbavmIRK8S  \n",
       "49  61TmxECX9M4mL9BUT1qYhJ  "
      ]
     },
     "execution_count": 20,
     "metadata": {},
     "output_type": "execute_result"
    }
   ],
   "source": [
    "df_orch.tail()        "
   ]
  }
 ],
 "metadata": {
  "kernelspec": {
   "display_name": "base",
   "language": "python",
   "name": "python3"
  },
  "language_info": {
   "codemirror_mode": {
    "name": "ipython",
    "version": 3
   },
   "file_extension": ".py",
   "mimetype": "text/x-python",
   "name": "python",
   "nbconvert_exporter": "python",
   "pygments_lexer": "ipython3",
   "version": "3.12.3"
  }
 },
 "nbformat": 4,
 "nbformat_minor": 5
}
